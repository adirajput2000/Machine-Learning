{
 "cells": [
  {
   "cell_type": "code",
   "execution_count": 1,
   "id": "2d8e0d4a",
   "metadata": {},
   "outputs": [],
   "source": [
    "import numpy as np\n",
    "import pandas as pd"
   ]
  },
  {
   "cell_type": "code",
   "execution_count": 2,
   "id": "3402cf8e",
   "metadata": {},
   "outputs": [],
   "source": [
    "#Gini_Impurities\n",
    "def gini_impurity(labels):\n",
    "    if(labels.size==0):\n",
    "        return 0\n",
    "    \n",
    "    #count the occurances of each label\n",
    "    counts = np.unique(labels, return_counts = True)[1]\n",
    "    fractions = counts/float(len(labels))\n",
    "    return 1- np.sum(fractions**2)"
   ]
  },
  {
   "cell_type": "code",
   "execution_count": 3,
   "id": "6fb25891",
   "metadata": {},
   "outputs": [],
   "source": [
    "#Entropy Calculation\n",
    "def entropy(labels):\n",
    "    if(labels.size==0):\n",
    "        return 0\n",
    "    counts = np.unique(labels, return_counts = True)[1]\n",
    "    fractions = counts/float(len(labels))\n",
    "    return -np.sum(fractions*np.log2(fractions))"
   ]
  },
  {
   "cell_type": "code",
   "execution_count": 4,
   "id": "189e9f6d",
   "metadata": {},
   "outputs": [],
   "source": [
    "criterion_function = {'gini':gini_impurity,'entropy':entropy}"
   ]
  },
  {
   "cell_type": "code",
   "execution_count": 5,
   "id": "c7d63e20",
   "metadata": {},
   "outputs": [],
   "source": [
    "#We update the weighted_impurity function\n",
    "def weighted_impurity(groups,criterion = 'gini'):\n",
    "    '''\n",
    "    Calculate weighted impurity of children after a split \n",
    "    @param groups: list of children, and a child consists a list of class labels\n",
    "    @param criterion: metric to measure the quality of a split, 'gini' for Gini Impurity or 'entropy' for Information Gain\n",
    "    @return: float, weighted impurity\n",
    "    '''\n",
    "    \n",
    "    total = sum(len(group) for group in groups)\n",
    "    weighted_sum = 0.0\n",
    "    for group in groups:\n",
    "        weighted_sum += len(group) / float(total) * criterion_function[criterion](group)\n",
    "        return weighted_sum"
   ]
  },
  {
   "cell_type": "code",
   "execution_count": 6,
   "id": "2e1b4d72",
   "metadata": {},
   "outputs": [],
   "source": [
    "#Next, we define a utility function to spulit a node into left and right children based on a feature and a value\n",
    "\n",
    "def split_node(X,y, index, value):\n",
    "    '''\n",
    "    Split dataset X, y based on a feature and a value \n",
    "    @param X: numpy.ndarray, dataset feature\n",
    "    @param y : numpy.ndarry, dataset target\n",
    "    @param index : int, index of the feature used for splitting\n",
    "    @param value: value of the feature used for spliting\n",
    "    @return: list, list, left and right child, a child is in  the format of [X,y]\n",
    "    '''\n",
    "    x_index = X[:,index]\n",
    "    #if this feature is numerical\n",
    "    if X[0,index].dtype.kind in ['i','f']:\n",
    "        mask = x_index>=value\n",
    "    #if this feature is categorical\n",
    "    else:\n",
    "        mask  = x_index == value\n",
    "    \n",
    "    left = [X[~mask,:],y[~mask]]\n",
    "    right = [X[mask,:],y[mask]]\n",
    "    return left, right"
   ]
  },
  {
   "cell_type": "code",
   "execution_count": 7,
   "id": "e3eab7d3",
   "metadata": {},
   "outputs": [],
   "source": [
    "def get_best_split(X, y, criterion):\n",
    "    ''' \n",
    "    Obtain the best splitting point and resulting children for the dataset X,y\n",
    "    @param X: numpy.ndarray, dataset feature\n",
    "    @param y: numpy.ndarray, dataset target\n",
    "    @param criterion: gini or entropy\n",
    "    @return: dict {index: index of the feature, value: feature\n",
    "    value, children: left and right children}\n",
    "    '''\n",
    "    best_index, best_value, best_score, children = None, None, 1, None\n",
    "    for index in range(len(X[0])):\n",
    "        for value in np.sort(np.unique(X[:, index])):\n",
    "            groups = split_node(X, y, index, value)\n",
    "            impurity = weighted_impurity([groups[0][1], groups[1][1]], criterion)\n",
    "            if impurity < best_score:\n",
    "                best_index, best_value, best_score, children = index, value, impurity, groups\n",
    "    return {'index': best_index, 'value': best_value,'children': children}"
   ]
  },
  {
   "cell_type": "code",
   "execution_count": 8,
   "id": "b2370e78",
   "metadata": {},
   "outputs": [],
   "source": [
    "def get_leaf(labels):\n",
    "    # Obtain the leaf as the majority of the labels\n",
    "    return np.bincount(labels).argmax()"
   ]
  },
  {
   "cell_type": "code",
   "execution_count": 9,
   "id": "e34a8e9f",
   "metadata": {},
   "outputs": [],
   "source": [
    "def split(node, max_depth, min_size, depth, criterion):\n",
    "    \"\"\"Split children of a node to construct new nodes or assign\n",
    "    them terminals\n",
    "    @param node: dict, with children info\n",
    "    @param max_depth: int, maximal depth of the tree\n",
    "    @param min_size: int, minimal samples required to further\n",
    "    split a child\n",
    "    @param depth: int, current depth of the node\n",
    "    @param criterion: gini or entropy\n",
    "    \"\"\"\n",
    "    left, right = node['children']\n",
    "    del (node['children'])\n",
    "    if left[1].size == 0:\n",
    "        node['right'] = get_leaf(right[1])\n",
    "        return\n",
    "    if right[1].size == 0:\n",
    "        node['left'] = get_leaf(left[1])\n",
    "        return\n",
    "    # Check if the current depth exceeds the maximal depth\n",
    "    if depth >= max_depth:\n",
    "        node['left'], node['right'] = get_leaf(left[1]), get_leaf(right[1])\n",
    "        return\n",
    "    # Check if the left child has enough samples\n",
    "    if left[1].size <= min_size:\n",
    "        node['left'] = get_leaf(left[1])\n",
    "    else:\n",
    "    # It has enough samples, we further split it\n",
    "        result = get_best_split(left[0], left[1], criterion)\n",
    "        result_left, result_right = result['children']\n",
    "        if result_left[1].size == 0:\n",
    "            node['left'] = get_leaf(result_right[1])\n",
    "        elif result_right[1].size == 0:\n",
    "            node['left'] = get_leaf(result_left[1])\n",
    "        else:\n",
    "            node['left'] = result\n",
    "            split(node['left'], max_depth, min_size,depth + 1, criterion)\n",
    "    # Check if the right child has enough samples\n",
    "    if right[1].size <= min_size:\n",
    "        node['right'] = get_leaf(right[1])\n",
    "    else:\n",
    "    # It has enough samples, we further split it\n",
    "        result = get_best_split(right[0], right[1], criterion)\n",
    "        result_left, result_right = result['children']\n",
    "        if result_left[1].size == 0:\n",
    "            node['right'] = get_leaf(result_right[1])\n",
    "        elif result_right[1].size == 0:\n",
    "            node['right'] = get_leaf(result_left[1])\n",
    "        else:\n",
    "            node['right'] = result\n",
    "            split(node['right'], max_depth, min_size,depth + 1, criterion)"
   ]
  },
  {
   "cell_type": "code",
   "execution_count": 10,
   "id": "ecf73378",
   "metadata": {},
   "outputs": [],
   "source": [
    "def train_tree(X_train, y_train, max_depth, min_size,criterion='gini'):\n",
    "    \"\"\"\n",
    "    Construction of a tree starts here\n",
    "    @param X_train: list of training samples (feature)\n",
    "    @param y_train: list of training samples (target)\n",
    "    @param max_depth: int, maximal depth of the tree\n",
    "    @param min_size: int, minimal samples required to further split a child\n",
    "    @param criterion: gini or entropy\n",
    "    \"\"\"\n",
    "    X = np.array(X_train)\n",
    "    y = np.array(y_train)\n",
    "    root = get_best_split(X, y, criterion)\n",
    "    split(root, max_depth, min_size, 1, criterion)\n",
    "    return root"
   ]
  },
  {
   "cell_type": "code",
   "execution_count": 11,
   "id": "d8300a22",
   "metadata": {},
   "outputs": [],
   "source": [
    "X_train = [['tech', 'professional'],['fashion', 'student'],['fashion', 'professional'],['sports', 'student'],['tech', 'student'],['tech', 'retired'],\n",
    "['sports', 'professional']]\n",
    "y_train = [1, 0, 0, 0, 1, 0, 1]\n",
    "tree = train_tree(X_train, y_train, 2, 2)"
   ]
  },
  {
   "cell_type": "code",
   "execution_count": 17,
   "id": "49b466f7",
   "metadata": {},
   "outputs": [],
   "source": [
    "CONDITION = {'numerical':{'yes':'>=','no':'<'}, 'categorical':{'yes':'is','no':'is not'}}\n",
    "\n",
    "def visualize_tree(node, depth=0):\n",
    "    if isinstance(node, dict):\n",
    "        if node['value'].dtype.kind in ['i', 'f']:\n",
    "            condition = CONDITION['numerical']\n",
    "        else:\n",
    "            condition = CONDITION['categorical']\n",
    "        print('{}|- X{} {} {}'.format(depth * ' ', node['index'] + 1, condition['no'], node['value']))\n",
    "        if 'left' in node:\n",
    "            visualize_tree(node['left'], depth + 1)\n",
    "        print('{}|- X{} {} {}'.format(depth * ' ', node['index'] + 1, condition['yes'], node['value']))\n",
    "        if 'right' in node:\n",
    "            visualize_tree(node['right'], depth + 1)\n",
    "        else:\n",
    "            print(f\"{depth * ' '}[{node}]\")"
   ]
  },
  {
   "cell_type": "code",
   "execution_count": 18,
   "id": "c67bd518",
   "metadata": {},
   "outputs": [
    {
     "name": "stdout",
     "output_type": "stream",
     "text": [
      "|- X1 is not tech\n",
      " |- X1 is not sports\n",
      " |- X1 is sports\n",
      "|- X1 is tech\n"
     ]
    }
   ],
   "source": [
    "visualize_tree(tree)"
   ]
  },
  {
   "cell_type": "code",
   "execution_count": null,
   "id": "dd2caa03",
   "metadata": {},
   "outputs": [],
   "source": []
  }
 ],
 "metadata": {
  "kernelspec": {
   "display_name": "Python 3 (ipykernel)",
   "language": "python",
   "name": "python3"
  },
  "language_info": {
   "codemirror_mode": {
    "name": "ipython",
    "version": 3
   },
   "file_extension": ".py",
   "mimetype": "text/x-python",
   "name": "python",
   "nbconvert_exporter": "python",
   "pygments_lexer": "ipython3",
   "version": "3.9.13"
  }
 },
 "nbformat": 4,
 "nbformat_minor": 5
}
