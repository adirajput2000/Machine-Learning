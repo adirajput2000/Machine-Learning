{
 "cells": [
  {
   "cell_type": "code",
   "execution_count": 6,
   "id": "a315e9d0",
   "metadata": {},
   "outputs": [],
   "source": [
    "from sklearn.tree import DecisionTreeClassifier\n",
    "from sklearn import tree"
   ]
  },
  {
   "cell_type": "code",
   "execution_count": 3,
   "id": "240b28d0",
   "metadata": {},
   "outputs": [],
   "source": [
    "X_train_n = [[6, 7],[2, 4],[7, 2],[3, 6],[4, 7],[5, 2],[1, 6],[2, 0],[6, 3],[4, 1]]\n",
    "y_train_n = [0, 0, 0, 0, 0, 1, 1, 1, 1, 1]"
   ]
  },
  {
   "cell_type": "code",
   "execution_count": 4,
   "id": "2b5a601e",
   "metadata": {},
   "outputs": [
    {
     "data": {
      "text/plain": [
       "DecisionTreeClassifier(max_depth=2)"
      ]
     },
     "execution_count": 4,
     "metadata": {},
     "output_type": "execute_result"
    }
   ],
   "source": [
    "tree_sk = DecisionTreeClassifier(criterion='gini', max_depth=2, min_samples_split=2)\n",
    "tree_sk.fit(X_train_n,y_train_n)"
   ]
  },
  {
   "cell_type": "code",
   "execution_count": 8,
   "id": "8985063c",
   "metadata": {},
   "outputs": [],
   "source": [
    "tree.export_graphviz(tree_sk,out_file='tree.dot',feature_names=['X1','X2'],impurity = False, filled=True, class_names=['0','1'])"
   ]
  }
 ],
 "metadata": {
  "kernelspec": {
   "display_name": "Python 3 (ipykernel)",
   "language": "python",
   "name": "python3"
  },
  "language_info": {
   "codemirror_mode": {
    "name": "ipython",
    "version": 3
   },
   "file_extension": ".py",
   "mimetype": "text/x-python",
   "name": "python",
   "nbconvert_exporter": "python",
   "pygments_lexer": "ipython3",
   "version": "3.9.13"
  }
 },
 "nbformat": 4,
 "nbformat_minor": 5
}
